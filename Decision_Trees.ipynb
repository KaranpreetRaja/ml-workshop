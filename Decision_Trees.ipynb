{
  "cells": [
    {
      "cell_type": "markdown",
      "metadata": {
        "id": "m-z-V91d0PK-"
      },
      "source": [
        "# Decision Tree Classifier"
      ]
    },
    {
      "cell_type": "code",
      "execution_count": null,
      "metadata": {
        "id": "K2GmGay9jfHg"
      },
      "outputs": [],
      "source": [
        "# Import necessary libraries\n",
        "import pandas as pd\n",
        "import matplotlib.pyplot as plt\n",
        "from sklearn.tree import DecisionTreeClassifier\n",
        "from sklearn.model_selection import train_test_split\n",
        "from sklearn.metrics import accuracy_score\n",
        "from sklearn.tree import plot_tree\n",
        "import sklearn.datasets as datasets"
      ]
    },
    {
      "cell_type": "code",
      "execution_count": null,
      "metadata": {
        "id": "Z2e5vU0Mjhrw"
      },
      "outputs": [],
      "source": [
        "# Load data\n",
        "iris = datasets.load_iris()\n",
        "X, y = iris.data, iris.target"
      ]
    },
    {
      "cell_type": "code",
      "execution_count": null,
      "metadata": {},
      "outputs": [],
      "source": [
        "# print x with column names\n",
        "print(pd.DataFrame(X, columns=iris.feature_names).head())\n",
        "\n",
        "# print y with column name\n",
        "print(pd.DataFrame(y, columns=['target']).head())"
      ]
    },
    {
      "cell_type": "code",
      "execution_count": null,
      "metadata": {
        "id": "betjvyMrjudJ"
      },
      "outputs": [],
      "source": [
        "# TODO: Split data into training and testing sets\n",
        "\n",
        "# TODO: Create a Decision Tree Classifier\n",
        "\n",
        "# TODO: Train the model using the training sets\n",
        "\n",
        "# TODO: Predict the response for test dataset"
      ]
    },
    {
      "cell_type": "code",
      "execution_count": null,
      "metadata": {
        "colab": {
          "base_uri": "https://localhost:8080/"
        },
        "id": "qjM7e-k-jywJ",
        "outputId": "c3e87bea-70e4-4c99-ea9a-80c797de1ffc"
      },
      "outputs": [],
      "source": [
        "# Model Accuracy, how often is the classifier correct?\n",
        "print(\"Accuracy:\", accuracy_score(Y_test, Y_pred))"
      ]
    },
    {
      "cell_type": "code",
      "execution_count": null,
      "metadata": {
        "colab": {
          "base_uri": "https://localhost:8080/",
          "height": 807
        },
        "id": "dO1CwEjMj1Cp",
        "outputId": "63f9f5af-09d1-4e1f-d38e-c252e10f1db4"
      },
      "outputs": [],
      "source": [
        "# Plot the decision tree with actual column names\n",
        "plt.figure(figsize=(20, 10))\n",
        "plot_tree(model, filled=True, feature_names=iris.feature_names, class_names=iris.target_names)\n",
        "plt.show()"
      ]
    }
  ],
  "metadata": {
    "colab": {
      "provenance": []
    },
    "kernelspec": {
      "display_name": "Python 3",
      "name": "python3"
    },
    "language_info": {
      "name": "python"
    }
  },
  "nbformat": 4,
  "nbformat_minor": 0
}
