{
  "cells": [
    {
      "cell_type": "markdown",
      "metadata": {
        "id": "m-z-V91d0PK-"
      },
      "source": [
        "# Linear Regression"
      ]
    },
    {
      "cell_type": "code",
      "execution_count": null,
      "metadata": {
        "id": "WCDti35y0GNv"
      },
      "outputs": [],
      "source": [
        "%matplotlib inline\n",
        "# Import necessary libraries\n",
        "import numpy as np\n",
        "import matplotlib.pyplot as plt"
      ]
    },
    {
      "cell_type": "code",
      "execution_count": null,
      "metadata": {
        "colab": {
          "base_uri": "https://localhost:8080/",
          "height": 472
        },
        "id": "Gy5mfRoG2hGj",
        "outputId": "320179b7-2d70-4cc1-a609-449226930961"
      },
      "outputs": [],
      "source": [
        "# Load data\n",
        "data_points = np.genfromtxt('linear_data.csv', delimiter=',')\n",
        "\n",
        "# Extract columns\n",
        "study_hours = np.array(data_points[:, 0])\n",
        "test_scores = np.array(data_points[:, 1])\n",
        "\n",
        "# Plot the dataset\n",
        "plt.scatter(study_hours, test_scores)\n",
        "plt.xlabel('Study Hours')\n",
        "plt.ylabel('Test Scores')\n",
        "plt.title('Dataset')\n",
        "plt.show()\n"
      ]
    },
    {
      "cell_type": "code",
      "execution_count": null,
      "metadata": {
        "id": "AmCKQvWh2j0r"
      },
      "outputs": [],
      "source": [
        "# Define hyperparameters\n",
        "learning_rate = 0.0001\n",
        "start_b = 0\n",
        "start_m = 0\n",
        "iterations = 10"
      ]
    },
    {
      "cell_type": "code",
      "execution_count": null,
      "metadata": {
        "id": "9GgNC25fFOVd"
      },
      "outputs": [],
      "source": [
        "# Plot Graph\n",
        "def plot_graph(b, m, points):\n",
        "    # Plot the dataset\n",
        "    plt.scatter(points[:, 0], points[:, 1])\n",
        "    plt.xlabel('Study Hours')\n",
        "    plt.ylabel('Test Scores')\n",
        "    plt.title('Dataset')\n",
        "\n",
        "    # Plot the line that fits the data with length 150\n",
        "    x = np.linspace(0, 80, 150)\n",
        "    y = m * x + b\n",
        "    plt.plot(x, y, color='red')\n",
        "    plt.show()"
      ]
    },
    {
      "cell_type": "code",
      "execution_count": null,
      "metadata": {
        "id": "itnxNaLo2y2k"
      },
      "outputs": [],
      "source": [
        "# Define cost function\n",
        "def calculate_cost(b, m, points):\n",
        "    total_error = 0\n",
        "    num_points = float(len(points))\n",
        "\n",
        "    # Compute sum of squared errors\n",
        "    for i in range(len(points)):\n",
        "        x = points[i, 0]\n",
        "        y = points[i, 1]\n",
        "        total_error += (y - (m * x + b)) ** 2\n",
        "\n",
        "    # Return average of squared error\n",
        "    return total_error / num_points"
      ]
    },
    {
      "cell_type": "code",
      "execution_count": null,
      "metadata": {
        "id": "e8vOddiL2zEM"
      },
      "outputs": [],
      "source": [
        "# Define gradient descent function\n",
        "def perform_gradient_descent(points, starting_b, starting_m, learning_rate, num_iterations):\n",
        "    b = starting_b\n",
        "    m = starting_m\n",
        "    cost_history = []\n",
        "\n",
        "    # For each iteration, optimize b, m and compute its cost\n",
        "    for i in range(num_iterations):\n",
        "        print('Iteration:', i)\n",
        "        plot_graph(b, m, points)\n",
        "        cost_history.append(calculate_cost(b, m, points))\n",
        "        b, m = update_parameters(b, m, np.array(points), learning_rate)\n",
        "\n",
        "    plot_graph(b, m, points)\n",
        "\n",
        "    return [b, m, cost_history]\n",
        "\n",
        "# Define function to update parameters\n",
        "def update_parameters(b_current, m_current, points, learning_rate):\n",
        "    m_gradient = 0\n",
        "    b_gradient = 0\n",
        "    N = float(len(points))\n",
        "\n",
        "    # points is a list of points (x, y)\n",
        "    # b_current is the current value of b\n",
        "    # m_current is the current value of m\n",
        "    # learning rate is the step size\n",
        "\n",
        "\n",
        "    # TODO: Calculate Gradient\n",
        "\n",
        "    # TODO: Update current m and b\n",
        "\n",
        "    # Return updated parameters\n",
        "    return b_updated, m_updated"
      ]
    },
    {
      "cell_type": "code",
      "execution_count": null,
      "metadata": {
        "colab": {
          "base_uri": "https://localhost:8080/",
          "height": 1000
        },
        "id": "QbMiYgwH2zH7",
        "outputId": "a598d643-2335-4d3d-ebb1-a3b4b5bfa8a6"
      },
      "outputs": [],
      "source": [
        "%matplotlib inline\n",
        "# Perform gradient descent to get optimized parameters b and m\n",
        "b, m, cost_graph = perform_gradient_descent(data_points, start_b, start_m, learning_rate, iterations)\n",
        "\n",
        "# Print optimized parameters\n",
        "print ('Optimized b:', b)\n",
        "print ('Optimized m:', m)\n",
        "\n",
        "# Print error with optimized parameters\n",
        "print ('Minimized cost:', calculate_cost(b, m, data_points))"
      ]
    },
    {
      "cell_type": "code",
      "execution_count": null,
      "metadata": {
        "colab": {
          "base_uri": "https://localhost:8080/",
          "height": 472
        },
        "id": "--Xf57SW2-wM",
        "outputId": "b34c5546-1163-499c-f22d-fc7e2090d91b"
      },
      "outputs": [],
      "source": [
        "# Plot cost per iteration\n",
        "plt.plot(cost_graph)\n",
        "plt.xlabel('No. of iterations')\n",
        "plt.ylabel('Cost')\n",
        "plt.title('Cost per iteration')\n",
        "plt.show()"
      ]
    }
  ],
  "metadata": {
    "colab": {
      "provenance": []
    },
    "kernelspec": {
      "display_name": "Python 3",
      "name": "python3"
    },
    "language_info": {
      "codemirror_mode": {
        "name": "ipython",
        "version": 3
      },
      "file_extension": ".py",
      "mimetype": "text/x-python",
      "name": "python",
      "nbconvert_exporter": "python",
      "pygments_lexer": "ipython3",
      "version": "3.10.12"
    }
  },
  "nbformat": 4,
  "nbformat_minor": 0
}
